{
 "cells": [
  {
   "cell_type": "code",
   "execution_count": 3,
   "metadata": {
    "pycharm": {
     "is_executing": false
    }
   },
   "outputs": [
    {
     "name": "stderr",
     "output_type": "stream",
     "text": [
      "[nltk_data] Downloading package stopwords to\n",
      "[nltk_data]     C:\\Users\\prajw\\AppData\\Roaming\\nltk_data...\n",
      "[nltk_data]   Package stopwords is already up-to-date!\n"
     ]
    }
   ],
   "source": [
    "import pandas as pd\n",
    "import numpy as np\n",
    "import matplotlib.pyplot as plt\n",
    "import seaborn as sns\n",
    "%matplotlib inline\n",
    "import nltk\n",
    "import re\n",
    "nltk.download('stopwords')\n",
    "from nltk.corpus import stopwords\n",
    "from nltk.stem.snowball import SnowballStemmer\n",
    "from nltk.stem.wordnet import WordNetLemmatizer\n",
    "from nltk.stem import PorterStemmer \n",
    "from nltk.tokenize import word_tokenize \n",
    "import wordcloud\n",
    "from wordcloud import WordCloud"
   ]
  },
  {
   "cell_type": "code",
   "execution_count": 4,
   "metadata": {
    "pycharm": {
     "is_executing": false
    }
   },
   "outputs": [],
   "source": [
    "questions_data = pd.read_csv('Questions.csv')\n",
    "tags_data = pd.read_csv('Tags.csv')"
   ]
  },
  {
   "cell_type": "code",
   "execution_count": 5,
   "metadata": {
    "pycharm": {
     "is_executing": false
    }
   },
   "outputs": [
    {
     "data": {
      "text/html": [
       "<div>\n",
       "<style scoped>\n",
       "    .dataframe tbody tr th:only-of-type {\n",
       "        vertical-align: middle;\n",
       "    }\n",
       "\n",
       "    .dataframe tbody tr th {\n",
       "        vertical-align: top;\n",
       "    }\n",
       "\n",
       "    .dataframe thead th {\n",
       "        text-align: right;\n",
       "    }\n",
       "</style>\n",
       "<table border=\"1\" class=\"dataframe\">\n",
       "  <thead>\n",
       "    <tr style=\"text-align: right;\">\n",
       "      <th></th>\n",
       "      <th>Id</th>\n",
       "      <th>OwnerUserId</th>\n",
       "      <th>CreationDate</th>\n",
       "      <th>Score</th>\n",
       "      <th>Title</th>\n",
       "      <th>Body</th>\n",
       "    </tr>\n",
       "  </thead>\n",
       "  <tbody>\n",
       "    <tr>\n",
       "      <td>0</td>\n",
       "      <td>77434</td>\n",
       "      <td>14008.0</td>\n",
       "      <td>2008-09-16T21:40:29Z</td>\n",
       "      <td>171</td>\n",
       "      <td>How to access the last value in a vector?</td>\n",
       "      <td>&lt;p&gt;Suppose I have a vector that is nested in a...</td>\n",
       "    </tr>\n",
       "    <tr>\n",
       "      <td>1</td>\n",
       "      <td>79709</td>\n",
       "      <td>NaN</td>\n",
       "      <td>2008-09-17T03:39:16Z</td>\n",
       "      <td>3</td>\n",
       "      <td>Worse sin: side effects or passing massive obj...</td>\n",
       "      <td>&lt;p&gt;I have a function inside a loop inside a fu...</td>\n",
       "    </tr>\n",
       "    <tr>\n",
       "      <td>2</td>\n",
       "      <td>95007</td>\n",
       "      <td>15842.0</td>\n",
       "      <td>2008-09-18T17:59:19Z</td>\n",
       "      <td>56</td>\n",
       "      <td>Explain the quantile() function in R</td>\n",
       "      <td>&lt;p&gt;I've been mystified by the R quantile funct...</td>\n",
       "    </tr>\n",
       "    <tr>\n",
       "      <td>3</td>\n",
       "      <td>103312</td>\n",
       "      <td>NaN</td>\n",
       "      <td>2008-09-19T16:09:26Z</td>\n",
       "      <td>4</td>\n",
       "      <td>How to test for the EOF flag in R?</td>\n",
       "      <td>&lt;p&gt;How can I test for the &lt;code&gt;EOF&lt;/code&gt; fla...</td>\n",
       "    </tr>\n",
       "    <tr>\n",
       "      <td>4</td>\n",
       "      <td>255697</td>\n",
       "      <td>1941213.0</td>\n",
       "      <td>2008-11-01T15:48:30Z</td>\n",
       "      <td>4</td>\n",
       "      <td>Is there an R package for learning a Dirichlet...</td>\n",
       "      <td>&lt;p&gt;I'm looking for a an &lt;code&gt;R&lt;/code&gt; package...</td>\n",
       "    </tr>\n",
       "  </tbody>\n",
       "</table>\n",
       "</div>"
      ],
      "text/plain": [
       "       Id  OwnerUserId          CreationDate  Score  \\\n",
       "0   77434      14008.0  2008-09-16T21:40:29Z    171   \n",
       "1   79709          NaN  2008-09-17T03:39:16Z      3   \n",
       "2   95007      15842.0  2008-09-18T17:59:19Z     56   \n",
       "3  103312          NaN  2008-09-19T16:09:26Z      4   \n",
       "4  255697    1941213.0  2008-11-01T15:48:30Z      4   \n",
       "\n",
       "                                               Title  \\\n",
       "0          How to access the last value in a vector?   \n",
       "1  Worse sin: side effects or passing massive obj...   \n",
       "2               Explain the quantile() function in R   \n",
       "3                 How to test for the EOF flag in R?   \n",
       "4  Is there an R package for learning a Dirichlet...   \n",
       "\n",
       "                                                Body  \n",
       "0  <p>Suppose I have a vector that is nested in a...  \n",
       "1  <p>I have a function inside a loop inside a fu...  \n",
       "2  <p>I've been mystified by the R quantile funct...  \n",
       "3  <p>How can I test for the <code>EOF</code> fla...  \n",
       "4  <p>I'm looking for a an <code>R</code> package...  "
      ]
     },
     "execution_count": 5,
     "metadata": {},
     "output_type": "execute_result"
    }
   ],
   "source": [
    "questions_data.head()"
   ]
  },
  {
   "cell_type": "code",
   "execution_count": 6,
   "metadata": {
    "pycharm": {
     "is_executing": false
    }
   },
   "outputs": [
    {
     "data": {
      "text/html": [
       "<div>\n",
       "<style scoped>\n",
       "    .dataframe tbody tr th:only-of-type {\n",
       "        vertical-align: middle;\n",
       "    }\n",
       "\n",
       "    .dataframe tbody tr th {\n",
       "        vertical-align: top;\n",
       "    }\n",
       "\n",
       "    .dataframe thead th {\n",
       "        text-align: right;\n",
       "    }\n",
       "</style>\n",
       "<table border=\"1\" class=\"dataframe\">\n",
       "  <thead>\n",
       "    <tr style=\"text-align: right;\">\n",
       "      <th></th>\n",
       "      <th>Id</th>\n",
       "      <th>Tag</th>\n",
       "    </tr>\n",
       "  </thead>\n",
       "  <tbody>\n",
       "    <tr>\n",
       "      <td>0</td>\n",
       "      <td>77434</td>\n",
       "      <td>vector</td>\n",
       "    </tr>\n",
       "    <tr>\n",
       "      <td>1</td>\n",
       "      <td>79709</td>\n",
       "      <td>memory</td>\n",
       "    </tr>\n",
       "    <tr>\n",
       "      <td>2</td>\n",
       "      <td>79709</td>\n",
       "      <td>function</td>\n",
       "    </tr>\n",
       "    <tr>\n",
       "      <td>3</td>\n",
       "      <td>79709</td>\n",
       "      <td>global-variables</td>\n",
       "    </tr>\n",
       "    <tr>\n",
       "      <td>4</td>\n",
       "      <td>79709</td>\n",
       "      <td>side-effects</td>\n",
       "    </tr>\n",
       "  </tbody>\n",
       "</table>\n",
       "</div>"
      ],
      "text/plain": [
       "      Id               Tag\n",
       "0  77434            vector\n",
       "1  79709            memory\n",
       "2  79709          function\n",
       "3  79709  global-variables\n",
       "4  79709      side-effects"
      ]
     },
     "execution_count": 6,
     "metadata": {},
     "output_type": "execute_result"
    }
   ],
   "source": [
    "tags_data.head()"
   ]
  },
  {
   "cell_type": "code",
   "execution_count": 7,
   "metadata": {
    "pycharm": {
     "is_executing": false
    }
   },
   "outputs": [
    {
     "name": "stdout",
     "output_type": "stream",
     "text": [
      "<class 'pandas.core.frame.DataFrame'>\n",
      "RangeIndex: 189930 entries, 0 to 189929\n",
      "Data columns (total 6 columns):\n",
      "Id              189930 non-null int64\n",
      "OwnerUserId     188729 non-null float64\n",
      "CreationDate    189930 non-null object\n",
      "Score           189930 non-null int64\n",
      "Title           189930 non-null object\n",
      "Body            189930 non-null object\n",
      "dtypes: float64(1), int64(2), object(3)\n",
      "memory usage: 8.7+ MB\n"
     ]
    }
   ],
   "source": [
    "questions_data.info()"
   ]
  },
  {
   "cell_type": "code",
   "execution_count": 8,
   "metadata": {
    "pycharm": {
     "is_executing": false
    }
   },
   "outputs": [
    {
     "name": "stdout",
     "output_type": "stream",
     "text": [
      "<class 'pandas.core.frame.DataFrame'>\n",
      "RangeIndex: 319375 entries, 0 to 319374\n",
      "Data columns (total 2 columns):\n",
      "Id     319375 non-null int64\n",
      "Tag    319212 non-null object\n",
      "dtypes: int64(1), object(1)\n",
      "memory usage: 4.9+ MB\n"
     ]
    }
   ],
   "source": [
    "tags_data.info()"
   ]
  },
  {
   "cell_type": "code",
   "execution_count": 9,
   "metadata": {
    "pycharm": {
     "is_executing": false
    }
   },
   "outputs": [
    {
     "data": {
      "text/html": [
       "<div>\n",
       "<style scoped>\n",
       "    .dataframe tbody tr th:only-of-type {\n",
       "        vertical-align: middle;\n",
       "    }\n",
       "\n",
       "    .dataframe tbody tr th {\n",
       "        vertical-align: top;\n",
       "    }\n",
       "\n",
       "    .dataframe thead th {\n",
       "        text-align: right;\n",
       "    }\n",
       "</style>\n",
       "<table border=\"1\" class=\"dataframe\">\n",
       "  <thead>\n",
       "    <tr style=\"text-align: right;\">\n",
       "      <th></th>\n",
       "      <th>Id</th>\n",
       "      <th>Tag</th>\n",
       "    </tr>\n",
       "  </thead>\n",
       "  <tbody>\n",
       "    <tr>\n",
       "      <td>1904</td>\n",
       "      <td>2991514</td>\n",
       "      <td>NaN</td>\n",
       "    </tr>\n",
       "    <tr>\n",
       "      <td>3425</td>\n",
       "      <td>4018082</td>\n",
       "      <td>NaN</td>\n",
       "    </tr>\n",
       "    <tr>\n",
       "      <td>5186</td>\n",
       "      <td>5222436</td>\n",
       "      <td>NaN</td>\n",
       "    </tr>\n",
       "    <tr>\n",
       "      <td>6542</td>\n",
       "      <td>5961839</td>\n",
       "      <td>NaN</td>\n",
       "    </tr>\n",
       "    <tr>\n",
       "      <td>8895</td>\n",
       "      <td>7169647</td>\n",
       "      <td>NaN</td>\n",
       "    </tr>\n",
       "  </tbody>\n",
       "</table>\n",
       "</div>"
      ],
      "text/plain": [
       "           Id  Tag\n",
       "1904  2991514  NaN\n",
       "3425  4018082  NaN\n",
       "5186  5222436  NaN\n",
       "6542  5961839  NaN\n",
       "8895  7169647  NaN"
      ]
     },
     "execution_count": 9,
     "metadata": {},
     "output_type": "execute_result"
    }
   ],
   "source": [
    "tags_residual = tags_data[tags_data.isna().any(axis=1)]\n",
    "tags_residual.head()"
   ]
  },
  {
   "cell_type": "code",
   "execution_count": 10,
   "metadata": {
    "pycharm": {
     "is_executing": false
    }
   },
   "outputs": [],
   "source": [
    "question_tags_data = pd.merge(questions_data,tags_data,how='inner',on='Id')"
   ]
  },
  {
   "cell_type": "code",
   "execution_count": 11,
   "metadata": {
    "pycharm": {
     "is_executing": false
    }
   },
   "outputs": [
    {
     "data": {
      "text/html": [
       "<div>\n",
       "<style scoped>\n",
       "    .dataframe tbody tr th:only-of-type {\n",
       "        vertical-align: middle;\n",
       "    }\n",
       "\n",
       "    .dataframe tbody tr th {\n",
       "        vertical-align: top;\n",
       "    }\n",
       "\n",
       "    .dataframe thead th {\n",
       "        text-align: right;\n",
       "    }\n",
       "</style>\n",
       "<table border=\"1\" class=\"dataframe\">\n",
       "  <thead>\n",
       "    <tr style=\"text-align: right;\">\n",
       "      <th></th>\n",
       "      <th>Id</th>\n",
       "      <th>OwnerUserId</th>\n",
       "      <th>CreationDate</th>\n",
       "      <th>Score</th>\n",
       "      <th>Title</th>\n",
       "      <th>Body</th>\n",
       "      <th>Tag</th>\n",
       "    </tr>\n",
       "  </thead>\n",
       "  <tbody>\n",
       "    <tr>\n",
       "      <td>0</td>\n",
       "      <td>77434</td>\n",
       "      <td>14008.0</td>\n",
       "      <td>2008-09-16T21:40:29Z</td>\n",
       "      <td>171</td>\n",
       "      <td>How to access the last value in a vector?</td>\n",
       "      <td>&lt;p&gt;Suppose I have a vector that is nested in a...</td>\n",
       "      <td>vector</td>\n",
       "    </tr>\n",
       "    <tr>\n",
       "      <td>1</td>\n",
       "      <td>79709</td>\n",
       "      <td>NaN</td>\n",
       "      <td>2008-09-17T03:39:16Z</td>\n",
       "      <td>3</td>\n",
       "      <td>Worse sin: side effects or passing massive obj...</td>\n",
       "      <td>&lt;p&gt;I have a function inside a loop inside a fu...</td>\n",
       "      <td>memory</td>\n",
       "    </tr>\n",
       "    <tr>\n",
       "      <td>2</td>\n",
       "      <td>79709</td>\n",
       "      <td>NaN</td>\n",
       "      <td>2008-09-17T03:39:16Z</td>\n",
       "      <td>3</td>\n",
       "      <td>Worse sin: side effects or passing massive obj...</td>\n",
       "      <td>&lt;p&gt;I have a function inside a loop inside a fu...</td>\n",
       "      <td>function</td>\n",
       "    </tr>\n",
       "    <tr>\n",
       "      <td>3</td>\n",
       "      <td>79709</td>\n",
       "      <td>NaN</td>\n",
       "      <td>2008-09-17T03:39:16Z</td>\n",
       "      <td>3</td>\n",
       "      <td>Worse sin: side effects or passing massive obj...</td>\n",
       "      <td>&lt;p&gt;I have a function inside a loop inside a fu...</td>\n",
       "      <td>global-variables</td>\n",
       "    </tr>\n",
       "    <tr>\n",
       "      <td>4</td>\n",
       "      <td>79709</td>\n",
       "      <td>NaN</td>\n",
       "      <td>2008-09-17T03:39:16Z</td>\n",
       "      <td>3</td>\n",
       "      <td>Worse sin: side effects or passing massive obj...</td>\n",
       "      <td>&lt;p&gt;I have a function inside a loop inside a fu...</td>\n",
       "      <td>side-effects</td>\n",
       "    </tr>\n",
       "  </tbody>\n",
       "</table>\n",
       "</div>"
      ],
      "text/plain": [
       "      Id  OwnerUserId          CreationDate  Score  \\\n",
       "0  77434      14008.0  2008-09-16T21:40:29Z    171   \n",
       "1  79709          NaN  2008-09-17T03:39:16Z      3   \n",
       "2  79709          NaN  2008-09-17T03:39:16Z      3   \n",
       "3  79709          NaN  2008-09-17T03:39:16Z      3   \n",
       "4  79709          NaN  2008-09-17T03:39:16Z      3   \n",
       "\n",
       "                                               Title  \\\n",
       "0          How to access the last value in a vector?   \n",
       "1  Worse sin: side effects or passing massive obj...   \n",
       "2  Worse sin: side effects or passing massive obj...   \n",
       "3  Worse sin: side effects or passing massive obj...   \n",
       "4  Worse sin: side effects or passing massive obj...   \n",
       "\n",
       "                                                Body               Tag  \n",
       "0  <p>Suppose I have a vector that is nested in a...            vector  \n",
       "1  <p>I have a function inside a loop inside a fu...            memory  \n",
       "2  <p>I have a function inside a loop inside a fu...          function  \n",
       "3  <p>I have a function inside a loop inside a fu...  global-variables  \n",
       "4  <p>I have a function inside a loop inside a fu...      side-effects  "
      ]
     },
     "execution_count": 11,
     "metadata": {},
     "output_type": "execute_result"
    }
   ],
   "source": [
    "question_tags_data.head()"
   ]
  },
  {
   "cell_type": "code",
   "execution_count": 12,
   "metadata": {
    "pycharm": {
     "is_executing": false
    }
   },
   "outputs": [
    {
     "name": "stdout",
     "output_type": "stream",
     "text": [
      "<class 'pandas.core.frame.DataFrame'>\n",
      "Int64Index: 319375 entries, 0 to 319374\n",
      "Data columns (total 7 columns):\n",
      "Id              319375 non-null int64\n",
      "OwnerUserId     317827 non-null float64\n",
      "CreationDate    319375 non-null object\n",
      "Score           319375 non-null int64\n",
      "Title           319375 non-null object\n",
      "Body            319375 non-null object\n",
      "Tag             319212 non-null object\n",
      "dtypes: float64(1), int64(2), object(4)\n",
      "memory usage: 19.5+ MB\n"
     ]
    }
   ],
   "source": [
    "question_tags_data.info()"
   ]
  },
  {
   "cell_type": "code",
   "execution_count": 13,
   "metadata": {
    "pycharm": {
     "is_executing": false
    }
   },
   "outputs": [],
   "source": [
    "question_tags_data.drop(['OwnerUserId','OwnerUserId','Id','CreationDate','Body','Score'],axis=1,inplace=True)\n",
    "question_tags_data.columns = question_tags_data.columns.str.strip()\n",
    "question_tags_data.columns = question_tags_data.columns.str.replace(' ', '_')\n",
    "question_tags_data.columns = question_tags_data.columns.str.lower()"
   ]
  },
  {
   "cell_type": "code",
   "execution_count": 14,
   "metadata": {
    "pycharm": {
     "is_executing": false
    }
   },
   "outputs": [
    {
     "data": {
      "text/html": [
       "<div>\n",
       "<style scoped>\n",
       "    .dataframe tbody tr th:only-of-type {\n",
       "        vertical-align: middle;\n",
       "    }\n",
       "\n",
       "    .dataframe tbody tr th {\n",
       "        vertical-align: top;\n",
       "    }\n",
       "\n",
       "    .dataframe thead th {\n",
       "        text-align: right;\n",
       "    }\n",
       "</style>\n",
       "<table border=\"1\" class=\"dataframe\">\n",
       "  <thead>\n",
       "    <tr style=\"text-align: right;\">\n",
       "      <th></th>\n",
       "      <th>title</th>\n",
       "      <th>tag</th>\n",
       "    </tr>\n",
       "  </thead>\n",
       "  <tbody>\n",
       "    <tr>\n",
       "      <td>0</td>\n",
       "      <td>How to access the last value in a vector?</td>\n",
       "      <td>vector</td>\n",
       "    </tr>\n",
       "    <tr>\n",
       "      <td>1</td>\n",
       "      <td>Worse sin: side effects or passing massive obj...</td>\n",
       "      <td>memory</td>\n",
       "    </tr>\n",
       "    <tr>\n",
       "      <td>2</td>\n",
       "      <td>Worse sin: side effects or passing massive obj...</td>\n",
       "      <td>function</td>\n",
       "    </tr>\n",
       "    <tr>\n",
       "      <td>3</td>\n",
       "      <td>Worse sin: side effects or passing massive obj...</td>\n",
       "      <td>global-variables</td>\n",
       "    </tr>\n",
       "    <tr>\n",
       "      <td>4</td>\n",
       "      <td>Worse sin: side effects or passing massive obj...</td>\n",
       "      <td>side-effects</td>\n",
       "    </tr>\n",
       "  </tbody>\n",
       "</table>\n",
       "</div>"
      ],
      "text/plain": [
       "                                               title               tag\n",
       "0          How to access the last value in a vector?            vector\n",
       "1  Worse sin: side effects or passing massive obj...            memory\n",
       "2  Worse sin: side effects or passing massive obj...          function\n",
       "3  Worse sin: side effects or passing massive obj...  global-variables\n",
       "4  Worse sin: side effects or passing massive obj...      side-effects"
      ]
     },
     "execution_count": 14,
     "metadata": {},
     "output_type": "execute_result"
    }
   ],
   "source": [
    "question_tags_data.head()"
   ]
  },
  {
   "cell_type": "code",
   "execution_count": 15,
   "metadata": {
    "pycharm": {
     "is_executing": false
    }
   },
   "outputs": [
    {
     "name": "stdout",
     "output_type": "stream",
     "text": [
      "<class 'pandas.core.frame.DataFrame'>\n",
      "Int64Index: 319375 entries, 0 to 319374\n",
      "Data columns (total 2 columns):\n",
      "title    319375 non-null object\n",
      "tag      319212 non-null object\n",
      "dtypes: object(2)\n",
      "memory usage: 7.3+ MB\n"
     ]
    }
   ],
   "source": [
    "question_tags_data.info()"
   ]
  },
  {
   "cell_type": "code",
   "execution_count": 16,
   "metadata": {
    "pycharm": {
     "is_executing": false
    }
   },
   "outputs": [
    {
     "data": {
      "text/html": [
       "<div>\n",
       "<style scoped>\n",
       "    .dataframe tbody tr th:only-of-type {\n",
       "        vertical-align: middle;\n",
       "    }\n",
       "\n",
       "    .dataframe tbody tr th {\n",
       "        vertical-align: top;\n",
       "    }\n",
       "\n",
       "    .dataframe thead th {\n",
       "        text-align: right;\n",
       "    }\n",
       "</style>\n",
       "<table border=\"1\" class=\"dataframe\">\n",
       "  <thead>\n",
       "    <tr style=\"text-align: right;\">\n",
       "      <th></th>\n",
       "      <th>title</th>\n",
       "      <th>tag</th>\n",
       "    </tr>\n",
       "  </thead>\n",
       "  <tbody>\n",
       "    <tr>\n",
       "      <td>1904</td>\n",
       "      <td>Prevent unlist to drop NULL values</td>\n",
       "      <td>NaN</td>\n",
       "    </tr>\n",
       "    <tr>\n",
       "      <td>3425</td>\n",
       "      <td>How to ignore null values in R?</td>\n",
       "      <td>NaN</td>\n",
       "    </tr>\n",
       "    <tr>\n",
       "      <td>5186</td>\n",
       "      <td>Can autoconversion of db NULL to 0 be prevente...</td>\n",
       "      <td>NaN</td>\n",
       "    </tr>\n",
       "    <tr>\n",
       "      <td>6542</td>\n",
       "      <td>remove row with nan value</td>\n",
       "      <td>NaN</td>\n",
       "    </tr>\n",
       "    <tr>\n",
       "      <td>8895</td>\n",
       "      <td>How can I make rjson's fromJSON method convert...</td>\n",
       "      <td>NaN</td>\n",
       "    </tr>\n",
       "  </tbody>\n",
       "</table>\n",
       "</div>"
      ],
      "text/plain": [
       "                                                  title  tag\n",
       "1904                 Prevent unlist to drop NULL values  NaN\n",
       "3425                    How to ignore null values in R?  NaN\n",
       "5186  Can autoconversion of db NULL to 0 be prevente...  NaN\n",
       "6542                          remove row with nan value  NaN\n",
       "8895  How can I make rjson's fromJSON method convert...  NaN"
      ]
     },
     "execution_count": 16,
     "metadata": {},
     "output_type": "execute_result"
    }
   ],
   "source": [
    "question_tags_data[question_tags_data.isna().any(axis=1)].head()"
   ]
  },
  {
   "cell_type": "markdown",
   "metadata": {},
   "source": [
    "### Text Cleaning"
   ]
  },
  {
   "cell_type": "markdown",
   "metadata": {},
   "source": [
    "### Dropping na"
   ]
  },
  {
   "cell_type": "code",
   "execution_count": 17,
   "metadata": {
    "pycharm": {
     "is_executing": false
    }
   },
   "outputs": [],
   "source": [
    "question_tags_data.dropna(axis=0,inplace=True)"
   ]
  },
  {
   "cell_type": "code",
   "execution_count": 18,
   "metadata": {
    "pycharm": {
     "is_executing": false
    }
   },
   "outputs": [
    {
     "name": "stdout",
     "output_type": "stream",
     "text": [
      "<class 'pandas.core.frame.DataFrame'>\n",
      "Int64Index: 319212 entries, 0 to 319374\n",
      "Data columns (total 2 columns):\n",
      "title    319212 non-null object\n",
      "tag      319212 non-null object\n",
      "dtypes: object(2)\n",
      "memory usage: 7.3+ MB\n"
     ]
    }
   ],
   "source": [
    "question_tags_data.info()"
   ]
  },
  {
   "cell_type": "code",
   "execution_count": 19,
   "metadata": {
    "pycharm": {
     "is_executing": false
    }
   },
   "outputs": [
    {
     "data": {
      "text/html": [
       "<div>\n",
       "<style scoped>\n",
       "    .dataframe tbody tr th:only-of-type {\n",
       "        vertical-align: middle;\n",
       "    }\n",
       "\n",
       "    .dataframe tbody tr th {\n",
       "        vertical-align: top;\n",
       "    }\n",
       "\n",
       "    .dataframe thead th {\n",
       "        text-align: right;\n",
       "    }\n",
       "</style>\n",
       "<table border=\"1\" class=\"dataframe\">\n",
       "  <thead>\n",
       "    <tr style=\"text-align: right;\">\n",
       "      <th></th>\n",
       "      <th>title</th>\n",
       "      <th>tag</th>\n",
       "    </tr>\n",
       "  </thead>\n",
       "  <tbody>\n",
       "    <tr>\n",
       "      <td>0</td>\n",
       "      <td>How to access the last value in a vector?</td>\n",
       "      <td>vector</td>\n",
       "    </tr>\n",
       "    <tr>\n",
       "      <td>1</td>\n",
       "      <td>Worse sin: side effects or passing massive obj...</td>\n",
       "      <td>memory</td>\n",
       "    </tr>\n",
       "    <tr>\n",
       "      <td>2</td>\n",
       "      <td>Worse sin: side effects or passing massive obj...</td>\n",
       "      <td>function</td>\n",
       "    </tr>\n",
       "    <tr>\n",
       "      <td>3</td>\n",
       "      <td>Worse sin: side effects or passing massive obj...</td>\n",
       "      <td>global-variables</td>\n",
       "    </tr>\n",
       "    <tr>\n",
       "      <td>4</td>\n",
       "      <td>Worse sin: side effects or passing massive obj...</td>\n",
       "      <td>side-effects</td>\n",
       "    </tr>\n",
       "  </tbody>\n",
       "</table>\n",
       "</div>"
      ],
      "text/plain": [
       "                                               title               tag\n",
       "0          How to access the last value in a vector?            vector\n",
       "1  Worse sin: side effects or passing massive obj...            memory\n",
       "2  Worse sin: side effects or passing massive obj...          function\n",
       "3  Worse sin: side effects or passing massive obj...  global-variables\n",
       "4  Worse sin: side effects or passing massive obj...      side-effects"
      ]
     },
     "execution_count": 19,
     "metadata": {},
     "output_type": "execute_result"
    }
   ],
   "source": [
    "question_tags_data.head()"
   ]
  },
  {
   "cell_type": "code",
   "execution_count": 20,
   "metadata": {
    "pycharm": {
     "is_executing": false
    }
   },
   "outputs": [
    {
     "data": {
      "text/plain": [
       "[Text(0, 0, 'ggplot2'),\n",
       " Text(0, 0, 'dataframe'),\n",
       " Text(0, 0, 'plot'),\n",
       " Text(0, 0, 'shiny'),\n",
       " Text(0, 0, 'dplyr'),\n",
       " Text(0, 0, 'data.table'),\n",
       " Text(0, 0, 'matrix'),\n",
       " Text(0, 0, 'loops'),\n",
       " Text(0, 0, 'regex'),\n",
       " Text(0, 0, 'function'),\n",
       " Text(0, 0, 'rstudio'),\n",
       " Text(0, 0, 'list'),\n",
       " Text(0, 0, 'for-loop'),\n",
       " Text(0, 0, 'time-series'),\n",
       " Text(0, 0, 'statistics'),\n",
       " Text(0, 0, 'knitr'),\n",
       " Text(0, 0, 'csv'),\n",
       " Text(0, 0, 'subset'),\n",
       " Text(0, 0, 'r-markdown'),\n",
       " Text(0, 0, 'python')]"
      ]
     },
     "execution_count": 20,
     "metadata": {},
     "output_type": "execute_result"
    },
    {
     "data": {
      "image/png": "[encoded data removed]",
      "text/plain": [
       "<Figure size 1440x216 with 1 Axes>"
      ]
     },
     "metadata": {
      "needs_background": "light"
     },
     "output_type": "display_data"
    }
   ],
   "source": [
    "plt.figure(figsize=(20,3))\n",
    "count_plot = sns.barplot(x=question_tags_data.tag.value_counts().nlargest(20).index, y=question_tags_data.tag.value_counts().nlargest(20))\n",
    "count_plot.set_xticklabels(count_plot.get_xticklabels(), rotation=45)"
   ]
  },
  {
   "cell_type": "code",
   "execution_count": 21,
   "metadata": {
    "pycharm": {
     "is_executing": false
    }
   },
   "outputs": [],
   "source": [
    "question_tags_data_grouped = question_tags_data.groupby('tag').head(500).reset_index(drop=True)"
   ]
  },
  {
   "cell_type": "code",
   "execution_count": 22,
   "metadata": {
    "pycharm": {
     "is_executing": false
    }
   },
   "outputs": [
    {
     "data": {
      "text/html": [
       "<div>\n",
       "<style scoped>\n",
       "    .dataframe tbody tr th:only-of-type {\n",
       "        vertical-align: middle;\n",
       "    }\n",
       "\n",
       "    .dataframe tbody tr th {\n",
       "        vertical-align: top;\n",
       "    }\n",
       "\n",
       "    .dataframe thead th {\n",
       "        text-align: right;\n",
       "    }\n",
       "</style>\n",
       "<table border=\"1\" class=\"dataframe\">\n",
       "  <thead>\n",
       "    <tr style=\"text-align: right;\">\n",
       "      <th></th>\n",
       "      <th>title</th>\n",
       "      <th>tag</th>\n",
       "    </tr>\n",
       "  </thead>\n",
       "  <tbody>\n",
       "    <tr>\n",
       "      <td>0</td>\n",
       "      <td>How to access the last value in a vector?</td>\n",
       "      <td>vector</td>\n",
       "    </tr>\n",
       "    <tr>\n",
       "      <td>1</td>\n",
       "      <td>Worse sin: side effects or passing massive obj...</td>\n",
       "      <td>memory</td>\n",
       "    </tr>\n",
       "    <tr>\n",
       "      <td>2</td>\n",
       "      <td>Worse sin: side effects or passing massive obj...</td>\n",
       "      <td>function</td>\n",
       "    </tr>\n",
       "    <tr>\n",
       "      <td>3</td>\n",
       "      <td>Worse sin: side effects or passing massive obj...</td>\n",
       "      <td>global-variables</td>\n",
       "    </tr>\n",
       "    <tr>\n",
       "      <td>4</td>\n",
       "      <td>Worse sin: side effects or passing massive obj...</td>\n",
       "      <td>side-effects</td>\n",
       "    </tr>\n",
       "  </tbody>\n",
       "</table>\n",
       "</div>"
      ],
      "text/plain": [
       "                                               title               tag\n",
       "0          How to access the last value in a vector?            vector\n",
       "1  Worse sin: side effects or passing massive obj...            memory\n",
       "2  Worse sin: side effects or passing massive obj...          function\n",
       "3  Worse sin: side effects or passing massive obj...  global-variables\n",
       "4  Worse sin: side effects or passing massive obj...      side-effects"
      ]
     },
     "execution_count": 22,
     "metadata": {},
     "output_type": "execute_result"
    }
   ],
   "source": [
    "question_tags_data_grouped.head()"
   ]
  },
  {
   "cell_type": "code",
   "execution_count": 23,
   "metadata": {
    "pycharm": {
     "is_executing": false
    }
   },
   "outputs": [],
   "source": [
    "value_counts = question_tags_data_grouped.tag.value_counts()\n",
    "to_remove = value_counts[value_counts<100].index\n",
    "question_tags_data_grouped = question_tags_data_grouped[~question_tags_data_grouped.tag.isin(to_remove)]"
   ]
  },
  {
   "cell_type": "code",
   "execution_count": 24,
   "metadata": {
    "pycharm": {
     "is_executing": false
    }
   },
   "outputs": [
    {
     "name": "stdout",
     "output_type": "stream",
     "text": [
      "(136331, 2)\n",
      "                                               title         tag\n",
      "0          How to access the last value in a vector?      vector\n",
      "1  Worse sin: side effects or passing massive obj...      memory\n",
      "2  Worse sin: side effects or passing massive obj...    function\n",
      "5               Explain the quantile() function in R        math\n",
      "6               Explain the quantile() function in R  statistics\n"
     ]
    }
   ],
   "source": [
    "print(question_tags_data_grouped.shape)\n",
    "print(question_tags_data_grouped.head())"
   ]
  },
  {
   "cell_type": "code",
   "execution_count": 25,
   "metadata": {
    "pycharm": {
     "is_executing": false
    }
   },
   "outputs": [
    {
     "name": "stdout",
     "output_type": "stream",
     "text": [
      "487\n"
     ]
    }
   ],
   "source": [
    "print(len(question_tags_data_grouped.tag.unique()))"
   ]
  },
  {
   "cell_type": "code",
   "execution_count": 26,
   "metadata": {
    "pycharm": {
     "is_executing": false
    }
   },
   "outputs": [
    {
     "data": {
      "text/html": [
       "<div>\n",
       "<style scoped>\n",
       "    .dataframe tbody tr th:only-of-type {\n",
       "        vertical-align: middle;\n",
       "    }\n",
       "\n",
       "    .dataframe tbody tr th {\n",
       "        vertical-align: top;\n",
       "    }\n",
       "\n",
       "    .dataframe thead th {\n",
       "        text-align: right;\n",
       "    }\n",
       "</style>\n",
       "<table border=\"1\" class=\"dataframe\">\n",
       "  <thead>\n",
       "    <tr style=\"text-align: right;\">\n",
       "      <th></th>\n",
       "      <th>title</th>\n",
       "      <th>tag</th>\n",
       "    </tr>\n",
       "  </thead>\n",
       "  <tbody>\n",
       "    <tr>\n",
       "      <td>0</td>\n",
       "      <td>How to access the last value in a vector?</td>\n",
       "      <td>vector</td>\n",
       "    </tr>\n",
       "    <tr>\n",
       "      <td>1</td>\n",
       "      <td>Worse sin: side effects or passing massive obj...</td>\n",
       "      <td>memory</td>\n",
       "    </tr>\n",
       "    <tr>\n",
       "      <td>2</td>\n",
       "      <td>Worse sin: side effects or passing massive obj...</td>\n",
       "      <td>function</td>\n",
       "    </tr>\n",
       "    <tr>\n",
       "      <td>5</td>\n",
       "      <td>Explain the quantile() function in R</td>\n",
       "      <td>math</td>\n",
       "    </tr>\n",
       "    <tr>\n",
       "      <td>6</td>\n",
       "      <td>Explain the quantile() function in R</td>\n",
       "      <td>statistics</td>\n",
       "    </tr>\n",
       "  </tbody>\n",
       "</table>\n",
       "</div>"
      ],
      "text/plain": [
       "                                               title         tag\n",
       "0          How to access the last value in a vector?      vector\n",
       "1  Worse sin: side effects or passing massive obj...      memory\n",
       "2  Worse sin: side effects or passing massive obj...    function\n",
       "5               Explain the quantile() function in R        math\n",
       "6               Explain the quantile() function in R  statistics"
      ]
     },
     "execution_count": 26,
     "metadata": {},
     "output_type": "execute_result"
    }
   ],
   "source": [
    "question_tags_data_grouped.head()"
   ]
  },
  {
   "cell_type": "code",
   "execution_count": 27,
   "metadata": {
    "pycharm": {
     "is_executing": false
    }
   },
   "outputs": [],
   "source": [
    "#removing stopwords\n",
    "stop=set(stopwords.words('english'))\n",
    "question_tags_data_grouped['title_without_stopwords'] = question_tags_data_grouped['title'].apply(lambda x: ' '.join([word for word in x.split() if word not in (stop)]))\n",
    "#converting title to lower case\n",
    "question_tags_data_grouped['title_without_stopwords'] = question_tags_data_grouped['title_without_stopwords'].str.lower()\n",
    "#removing html tags if any in title\n",
    "question_tags_data_grouped['title_without_stopwords'] = question_tags_data_grouped['title_without_stopwords'].str.replace('<[^<]+?>', '') # Use regex to remove html tags\n",
    "#stemming\n",
    "porter_stemmer = PorterStemmer()\n",
    "def stem_sentences(sentence):\n",
    "    tokens = sentence.split()\n",
    "    stemmed_tokens = [porter_stemmer.stem(token) for token in tokens]\n",
    "    return ' '.join(stemmed_tokens)\n",
    "\n",
    "question_tags_data_grouped['title_without_stopwords'] = question_tags_data_grouped['title_without_stopwords'].apply(stem_sentences)\n"
   ]
  },
  {
   "cell_type": "code",
   "execution_count": 28,
   "metadata": {
    "pycharm": {
     "is_executing": false
    }
   },
   "outputs": [
    {
     "data": {
      "text/html": [
       "<div>\n",
       "<style scoped>\n",
       "    .dataframe tbody tr th:only-of-type {\n",
       "        vertical-align: middle;\n",
       "    }\n",
       "\n",
       "    .dataframe tbody tr th {\n",
       "        vertical-align: top;\n",
       "    }\n",
       "\n",
       "    .dataframe thead th {\n",
       "        text-align: right;\n",
       "    }\n",
       "</style>\n",
       "<table border=\"1\" class=\"dataframe\">\n",
       "  <thead>\n",
       "    <tr style=\"text-align: right;\">\n",
       "      <th></th>\n",
       "      <th>title</th>\n",
       "      <th>tag</th>\n",
       "    </tr>\n",
       "  </thead>\n",
       "  <tbody>\n",
       "    <tr>\n",
       "      <td>0</td>\n",
       "      <td>how access last valu vector?</td>\n",
       "      <td>vector</td>\n",
       "    </tr>\n",
       "    <tr>\n",
       "      <td>1</td>\n",
       "      <td>wors sin: side effect pass massiv objects?</td>\n",
       "      <td>memory</td>\n",
       "    </tr>\n",
       "    <tr>\n",
       "      <td>2</td>\n",
       "      <td>wors sin: side effect pass massiv objects?</td>\n",
       "      <td>function</td>\n",
       "    </tr>\n",
       "    <tr>\n",
       "      <td>5</td>\n",
       "      <td>explain quantile() function r</td>\n",
       "      <td>math</td>\n",
       "    </tr>\n",
       "    <tr>\n",
       "      <td>6</td>\n",
       "      <td>explain quantile() function r</td>\n",
       "      <td>statistics</td>\n",
       "    </tr>\n",
       "    <tr>\n",
       "      <td>7</td>\n",
       "      <td>how test eof flag r?</td>\n",
       "      <td>file</td>\n",
       "    </tr>\n",
       "    <tr>\n",
       "      <td>8</td>\n",
       "      <td>how test eof flag r?</td>\n",
       "      <td>file-io</td>\n",
       "    </tr>\n",
       "    <tr>\n",
       "      <td>10</td>\n",
       "      <td>is r packag learn dirichlet prior count data</td>\n",
       "      <td>math</td>\n",
       "    </tr>\n",
       "    <tr>\n",
       "      <td>11</td>\n",
       "      <td>is r packag learn dirichlet prior count data</td>\n",
       "      <td>statistics</td>\n",
       "    </tr>\n",
       "    <tr>\n",
       "      <td>12</td>\n",
       "      <td>is r packag learn dirichlet prior count data</td>\n",
       "      <td>bayesian</td>\n",
       "    </tr>\n",
       "  </tbody>\n",
       "</table>\n",
       "</div>"
      ],
      "text/plain": [
       "                                           title         tag\n",
       "0                   how access last valu vector?      vector\n",
       "1     wors sin: side effect pass massiv objects?      memory\n",
       "2     wors sin: side effect pass massiv objects?    function\n",
       "5                  explain quantile() function r        math\n",
       "6                  explain quantile() function r  statistics\n",
       "7                           how test eof flag r?        file\n",
       "8                           how test eof flag r?     file-io\n",
       "10  is r packag learn dirichlet prior count data        math\n",
       "11  is r packag learn dirichlet prior count data  statistics\n",
       "12  is r packag learn dirichlet prior count data    bayesian"
      ]
     },
     "execution_count": 28,
     "metadata": {},
     "output_type": "execute_result"
    }
   ],
   "source": [
    "question_tags_data_grouped['title']=question_tags_data_grouped['title_without_stopwords']\n",
    "question_tags_data_grouped.drop(['title_without_stopwords'],axis=1,inplace=True)\n",
    "question_tags_data_grouped.to_csv('modified_question.csv')\n",
    "question_tags_data_grouped.head(10)"
   ]
  },
  {
   "cell_type": "code",
   "execution_count": 29,
   "metadata": {
    "pycharm": {
     "is_executing": false
    }
   },
   "outputs": [
    {
     "ename": "NameError",
     "evalue": "name 'result' is not defined",
     "output_type": "error",
     "traceback": [
      "\u001b[1;31m---------------------------------------------------------------------------\u001b[0m",
      "\u001b[1;31mNameError\u001b[0m                                 Traceback (most recent call last)",
      "\u001b[1;32m<ipython-input-29-3e0e998ba817>\u001b[0m in \u001b[0;36m<module>\u001b[1;34m\u001b[0m\n\u001b[1;32m----> 1\u001b[1;33m \u001b[0mtup\u001b[0m \u001b[1;33m=\u001b[0m \u001b[0mdict\u001b[0m\u001b[1;33m(\u001b[0m\u001b[0mresult\u001b[0m\u001b[1;33m.\u001b[0m\u001b[0mitems\u001b[0m\u001b[1;33m(\u001b[0m\u001b[1;33m)\u001b[0m\u001b[1;33m)\u001b[0m\u001b[1;33m\u001b[0m\u001b[1;33m\u001b[0m\u001b[0m\n\u001b[0m\u001b[0;32m      2\u001b[0m wordcloud = WordCloud(    background_color='black',\n\u001b[0;32m      3\u001b[0m                           \u001b[0mwidth\u001b[0m\u001b[1;33m=\u001b[0m\u001b[1;36m1600\u001b[0m\u001b[1;33m,\u001b[0m\u001b[1;33m\u001b[0m\u001b[1;33m\u001b[0m\u001b[0m\n\u001b[0;32m      4\u001b[0m                           \u001b[0mheight\u001b[0m\u001b[1;33m=\u001b[0m\u001b[1;36m800\u001b[0m\u001b[1;33m,\u001b[0m\u001b[1;33m\u001b[0m\u001b[1;33m\u001b[0m\u001b[0m\n\u001b[0;32m      5\u001b[0m                     ).generate_from_frequencies(tup)\n",
      "\u001b[1;31mNameError\u001b[0m: name 'result' is not defined"
     ]
    }
   ],
   "source": [
    "tup = dict(result.items())\n",
    "wordcloud = WordCloud(    background_color='black',\n",
    "                          width=1600,\n",
    "                          height=800,\n",
    "                    ).generate_from_frequencies(tup)\n",
    "\n",
    "fig = plt.figure(figsize=(30,20))\n",
    "plt.imshow(wordcloud)\n",
    "plt.axis('off')\n",
    "plt.tight_layout(pad=0)\n",
    "fig.savefig(\"tag.png\")\n",
    "plt.show()"
   ]
  },
  {
   "cell_type": "code",
   "execution_count": null,
   "metadata": {
    "pycharm": {
     "is_executing": false
    }
   },
   "outputs": [],
   "source": []
  }
 ],
 "metadata": {
  "kernelspec": {
   "display_name": "Python 3",
   "language": "python",
   "name": "python3"
  },
  "language_info": {
   "codemirror_mode": {
    "name": "ipython",
    "version": 3
   },
   "file_extension": ".py",
   "mimetype": "text/x-python",
   "name": "python",
   "nbconvert_exporter": "python",
   "pygments_lexer": "ipython3",
   "version": "3.7.4"
  }
 },
 "nbformat": 4,
 "nbformat_minor": 2
}
